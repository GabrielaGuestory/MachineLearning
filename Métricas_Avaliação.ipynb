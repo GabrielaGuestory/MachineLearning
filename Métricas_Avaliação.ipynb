{
  "nbformat": 4,
  "nbformat_minor": 0,
  "metadata": {
    "colab": {
      "provenance": [],
      "authorship_tag": "ABX9TyNBdv+sk0Kw4cP/G2iwR/yN",
      "include_colab_link": true
    },
    "kernelspec": {
      "name": "python3",
      "display_name": "Python 3"
    },
    "language_info": {
      "name": "python"
    }
  },
  "cells": [
    {
      "cell_type": "markdown",
      "metadata": {
        "id": "view-in-github",
        "colab_type": "text"
      },
      "source": [
        "<a href=\"https://colab.research.google.com/github/GabrielaGuestory/MachineLearning/blob/main/M%C3%A9tricas_Avalia%C3%A7%C3%A3o.ipynb\" target=\"_parent\"><img src=\"https://colab.research.google.com/assets/colab-badge.svg\" alt=\"Open In Colab\"/></a>"
      ]
    },
    {
      "cell_type": "code",
      "execution_count": 4,
      "metadata": {
        "id": "cws0Rh6qdcgf"
      },
      "outputs": [],
      "source": [
        "def calcular_metricas(VP, VN, FP, FN):\n",
        "   # Sensibilidade (Recall)\n",
        "    sensibilidade = VP / (VP + FN) if (VP + FN) > 0 else 0\n",
        "\n",
        "    # Especificidade\n",
        "    especificidade = VN / (FP + VN) if (FP + VN) > 0 else 0\n",
        "\n",
        "    # Acurácia\n",
        "    N = VP + VN + FP + FN\n",
        "    acuracia = (VP + VN) / N if N > 0 else 0\n",
        "\n",
        "    # Precisão\n",
        "    precisao = VP / (VP + FP) if (VP + FP) > 0 else 0\n",
        "\n",
        "    # F-score\n",
        "    f_score = (2 * precisao * sensibilidade) / (precisao + sensibilidade) if (precisao + sensibilidade) > 0 else 0\n",
        "\n",
        "    return {\n",
        "        \"Sensibilidade (Recall)\": sensibilidade,\n",
        "        \"Especificidade\": especificidade,\n",
        "        \"Acurácia\": acuracia,\n",
        "        \"Precisão\": precisao,\n",
        "        \"F-score\": f_score\n",
        "    }"
      ]
    },
    {
      "cell_type": "code",
      "source": [
        "VP, VN, FP, FN = 50, 30, 5, 15\n",
        "\n",
        "metricas = calcular_metricas(VP, VN, FP, FN)\n"
      ],
      "metadata": {
        "id": "5SvvKNADd-DW"
      },
      "execution_count": 11,
      "outputs": []
    },
    {
      "cell_type": "code",
      "source": [
        "# Exibir resultados formatados\n",
        "print(\"Resultados das Métricas:\\n\")\n",
        "for nome, valor in metricas.items():\n",
        "    print(f\"{nome}: {valor:.3f}\")"
      ],
      "metadata": {
        "colab": {
          "base_uri": "https://localhost:8080/"
        },
        "id": "XWMhCTfPeS3m",
        "outputId": "bc282162-9cb7-431d-ef7f-d261760e9b91"
      },
      "execution_count": 12,
      "outputs": [
        {
          "output_type": "stream",
          "name": "stdout",
          "text": [
            "Resultados das Métricas:\n",
            "\n",
            "Sensibilidade (Recall): 0.769\n",
            "Especificidade: 0.857\n",
            "Acurácia: 0.800\n",
            "Precisão: 0.909\n",
            "F-score: 0.833\n"
          ]
        }
      ]
    }
  ]
}